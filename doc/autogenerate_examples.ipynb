{
 "cells": [
  {
   "cell_type": "markdown",
   "metadata": {},
   "source": [
    "# Generate missing C-grid coordinates\n",
    "\n",
    "Climate model output is usually provided with geometric information like the position of the cell center and boundaries. Gridded observational datasets often lack these informations and provide only the position of either\n",
    "the gridcell center or cell boundary.\n",
    "\n",
    "This makes the calculation of common vector calculus operators like the\n",
    "gradient difficult, and results depend on the particular method used.\n",
    "\n",
    "`xgcm` can infer the cell boundary or cell center location depending on the\n",
    "geometry of the gridded source dataset. This enables consistent and easily\n",
    "reproducible calculations across model and observational datasets.\n",
    "\n",
    "The [autogenerate](api.rst#module-xgcm.autogenerate) module enables the user to apply the same methods to both model output and observational products, which enables better comparison and a unified workflow using different sources of data.\n",
    "\n",
    "In this case xgcm can infer the missing coordinates to enable the creation of a grid object. Below we will illustrate how to infer coordinates for several example datasets (nonperiodic and periodic) and show how the resulting dataset can be used to perform common calculations like gradients and distance/area weighted averages on observational data."
   ]
  },
  {
   "cell_type": "markdown",
   "metadata": {},
   "source": [
    "## Non periodic 1D example: Ocean temperature profile"
   ]
  },
  {
   "cell_type": "markdown",
   "metadata": {},
   "source": [
    "First let's import xarray and xgcm"
   ]
  },
  {
   "cell_type": "code",
   "execution_count": null,
   "metadata": {},
   "outputs": [],
   "source": [
    "import numpy as np\n",
    "import xarray as xr\n",
    "from xgcm import Grid\n",
    "from xgcm.autogenerate import generate_grid_ds\n",
    "import matplotlib.pyplot as plt\n",
    "%matplotlib inline"
   ]
  },
  {
   "cell_type": "markdown",
   "metadata": {},
   "source": [
    "Below we will create a synthetic temperature profile with decreasing temperature at depth, with unevenly spaced depth intervals (commonly found in hydrographic data)."
   ]
  },
  {
   "cell_type": "code",
   "execution_count": null,
   "metadata": {},
   "outputs": [],
   "source": [
    "# create a synthetic ocean temperature profile with uneven spacing in depth\n",
    "z = np.hstack([np.arange(1,10, 1), np.arange(10,200, 10), np.arange(200,700, 20)])\n",
    "# Create synthetic temperature profile with maximum temperature gradient at mid depth (e.g. the thermocline)\n",
    "temp = ((np.cos(np.pi*z/700) + 1) + np.exp(-z/350) / 2) * 10\n",
    "\n",
    "# Convert to xarray.Dataset\n",
    "ds = xr.DataArray(temp, dims=['depth'], coords={'depth':z}).to_dataset(name='temperature')\n",
    "\n",
    "ds.temperature.plot(y='depth', yincrease=False)"
   ]
  },
  {
   "cell_type": "markdown",
   "metadata": {},
   "source": [
    "### Infer the cell boundaries using xgcm.autogenerate\n",
    "[generate_grid_ds](api.rst#xgcm.autogenerate.generate_grid_ds) can infer the missing cell positions based on the given position (defaults to cell center) and the [axis](grids.rst#axes-and-positions), which is defined by passing a dictionary with the physical axis as key and the dataset dimensions belonging to that axis as values."
   ]
  },
  {
   "cell_type": "code",
   "execution_count": null,
   "metadata": {},
   "outputs": [],
   "source": [
    "# Generate 'full' dataset, which includes additional coordinate `depth_left` and appropriate attributes.\n",
    "ds_full = generate_grid_ds(ds, {'Z':'depth'})\n",
    "print(ds_full)\n",
    "print(ds.depth.data)\n",
    "print(ds_full.depth_left.data)"
   ]
  },
  {
   "cell_type": "markdown",
   "metadata": {},
   "source": [
    "We see now that a new dimension `depth_left` was created, with cell boundaries shifted towards the surface"
   ]
  },
  {
   "cell_type": "markdown",
   "metadata": {},
   "source": [
    "The default behaviour of [generate_grid_ds](api.rst#xgcm.autogenerate.generate_grid_ds) is to extrapolate the grid position to the 'left' (e.g. towards the surface for a depth profile), assuming that the spacing in the two cells closest to the boundary (here: the first and second cell) is equal. Particular geometries might require adjustments of the boundary treatment, by specifying e.g. `pad=0` to ensure the topmost cell boundary is located at the sea surface."
   ]
  },
  {
   "cell_type": "markdown",
   "metadata": {},
   "source": [
    "Finally we can create the [xgcm.Grid](api.rst#xgcm.Grid) object like we would from model output (see for example [here](grids.rst#simple-grids)) "
   ]
  },
  {
   "cell_type": "code",
   "execution_count": null,
   "metadata": {},
   "outputs": [],
   "source": [
    "# Create grid object\n",
    "grid = Grid(ds_full, periodic=False)\n",
    "print(grid)"
   ]
  },
  {
   "cell_type": "markdown",
   "metadata": {},
   "source": [
    "### Calculate vertical gradient"
   ]
  },
  {
   "cell_type": "markdown",
   "metadata": {},
   "source": [
    "Now we have all the tools we need to calculate the vertical gradient just like with numerical model output"
   ]
  },
  {
   "cell_type": "code",
   "execution_count": null,
   "metadata": {},
   "outputs": [],
   "source": [
    "# Calculate vertical distances located on the cellboundary\n",
    "ds_full.coords['dzc'] = grid.diff(ds_full.depth, 'Z', boundary='extrapolate')\n",
    "# Calculate vertical distances located on the cellcenter\n",
    "ds_full.coords['dzt'] = grid.diff(ds_full.depth_left, 'Z', boundary='extrapolate')"
   ]
  },
  {
   "cell_type": "code",
   "execution_count": null,
   "metadata": {},
   "outputs": [],
   "source": [
    "# note that the temperature gradient is located on the `depth_left` dimension, \n",
    "# but no temperature information is available, to infer the gradient in the topmost grid cell.\n",
    "# The following will pad with nan towards the surface. Alternatively the values could be padded with\n",
    "# with a particular value or linearly extrapolated.\n",
    "\n",
    "dtemp_dz = grid.diff(ds.temperature, 'Z', boundary='fill', fill_value=np.nan) / ds_full.dzc\n",
    "print(dtemp_dz)\n",
    "\n",
    "\n",
    "fig, ax1 = plt.subplots()\n",
    "ax1.invert_yaxis()\n",
    "ax2 = ax1.twiny()\n",
    "\n",
    "ds.temperature.plot(ax=ax1, y='depth', color='C0')\n",
    "ax1.set_xlabel('temperature [deg C]', color='C0')\n",
    "\n",
    "dtemp_dz.plot(ax=ax2, y='depth_left', color='C1')\n",
    "ax2.set_xlabel('vertical temperature gradient [deg C / m]', color='C1');"
   ]
  },
  {
   "cell_type": "markdown",
   "metadata": {},
   "source": [
    "### Depth weighted average\n",
    "\n",
    "Another common operation for many climate datasets is a weighted mean along an unevenly spaced dimension. \n",
    "Using the grid spacing for the tracer cells earlier this becomes trivial."
   ]
  },
  {
   "cell_type": "code",
   "execution_count": null,
   "metadata": {},
   "outputs": [],
   "source": [
    "mean_temp = ds_full.temperature.mean('depth')\n",
    "mean_temp_weighted = (ds_full.temperature * ds_full.dzt).sum('depth') / ds_full.dzt.sum('depth')\n",
    "\n",
    "print(mean_temp.data)\n",
    "print(mean_temp_weighted.data)"
   ]
  },
  {
   "cell_type": "markdown",
   "metadata": {},
   "source": [
    "## Periodic 2D example\n",
    "Below we will show how to apply these methods similarly to a global surface wind field, which is periodic in the longitudinal ('x') direction."
   ]
  },
  {
   "cell_type": "code",
   "execution_count": null,
   "metadata": {},
   "outputs": [],
   "source": [
    "# hack to make file name work with nbsphinx and binder\n",
    "import os\n",
    "fname = '../datasets/uvwnd.10m.gauss.2018.nc'\n",
    "if not os.path.exists(fname):\n",
    "    fname = '../' + fname"
   ]
  },
  {
   "cell_type": "code",
   "execution_count": null,
   "metadata": {},
   "outputs": [],
   "source": [
    "ds = xr.open_dataset(fname)\n",
    "ds_full = generate_grid_ds(ds, {'X':'lon', 'Y':'lat'})\n",
    "ds_full"
   ]
  },
  {
   "cell_type": "markdown",
   "metadata": {},
   "source": [
    "As in the depth profile the longitude and latitude values are extended to the `left` when the defaults are used.\n",
    "However, since the latitude is not periodic we can specify the position to extend to as `outer` (more details [here](grids.rst#axes-and-positions)). This will extend the latitudinal positions both to the left and right, avoiding missing values later on."
   ]
  },
  {
   "cell_type": "code",
   "execution_count": null,
   "metadata": {},
   "outputs": [],
   "source": [
    "grid = Grid(ds_full, periodic=['X'])\n",
    "grid"
   ]
  },
  {
   "cell_type": "markdown",
   "metadata": {},
   "source": [
    "Now we compute the difference (in degrees) along the longitude and latitude for both the cell center and the cell face. Since we are not taking the difference of a data variable across the periodic boundary, we need to specify the `boundary_discontinutity` in order to avoid the introduction of artefacts at the boundary."
   ]
  },
  {
   "cell_type": "code",
   "execution_count": null,
   "metadata": {},
   "outputs": [],
   "source": [
    "dlong = grid.diff(ds_full.lon, 'X', boundary_discontinuity=360) \n",
    "dlonc = grid.diff(ds_full.lon_left, 'X', boundary_discontinuity=360)\n",
    "dlonc_wo_discontinuity = grid.diff(ds_full.lon_left, 'X')\n",
    "\n",
    "dlatg = grid.diff(ds_full.lat, 'Y', boundary='fill', fill_value=np.nan)\n",
    "dlatc = grid.diff(ds_full.lat_left, 'Y', boundary='fill', fill_value=np.nan)\n",
    "\n",
    "dlonc.plot()\n",
    "dlonc_wo_discontinuity.plot(linestyle='--')"
   ]
  },
  {
   "cell_type": "markdown",
   "metadata": {},
   "source": [
    "Without adding the `boundary_discontinuity` input, the last cell distance is calculated incorectly."
   ]
  },
  {
   "cell_type": "markdown",
   "metadata": {},
   "source": [
    "The values we just calculated are actually not cell distances, but instead differences in longitude and latitude (in degrees). In order to calculate operators like the gradient `dlon` and `dlat` have to be converted into approximate cartesian distances on a globe."
   ]
  },
  {
   "cell_type": "code",
   "execution_count": null,
   "metadata": {},
   "outputs": [],
   "source": [
    "def dll_dist(dlon, dlat, lon, lat):\n",
    "        \"\"\"Converts lat/lon differentials into distances in meters\n",
    "   \n",
    "        PARAMETERS\n",
    "        ----------\n",
    "        dlon : xarray.DataArray longitude differentials\n",
    "        dlat : xarray.DataArray latitude differentials\n",
    "        lon  : xarray.DataArray longitude values\n",
    "        lat  : xarray.DataArray latitude values\n",
    "   \n",
    "        RETURNS\n",
    "        -------\n",
    "        dx  : xarray.DataArray distance inferred from dlon\n",
    "        dy  : xarray.DataArray distance inferred from dlat\n",
    "        \"\"\"\n",
    "\n",
    "        distance_1deg_equator = 111000.0\n",
    "        dx = dlon * xr.ufuncs.cos(xr.ufuncs.deg2rad(lat)) * distance_1deg_equator\n",
    "        dy = ((lon * 0) + 1) * dlat * distance_1deg_equator \n",
    "        return dx, dy\n",
    "\n",
    "ds_full.coords['dxg'], ds_full.coords['dyg'] = dll_dist(dlong, dlatg, ds_full.lon, ds_full.lat)\n",
    "ds_full.coords['dxc'], ds_full.coords['dyc'] = dll_dist(dlonc, dlatc, ds_full.lon, ds_full.lat)"
   ]
  },
  {
   "cell_type": "markdown",
   "metadata": {},
   "source": [
    "Based on the distances we can estimate the area of each grid cell and compute the area-weighted meridional average temperature"
   ]
  },
  {
   "cell_type": "code",
   "execution_count": null,
   "metadata": {},
   "outputs": [],
   "source": [
    "ds_full.coords['area_c'] = ds_full.dxc * ds_full.dyc"
   ]
  },
  {
   "cell_type": "markdown",
   "metadata": {},
   "source": [
    "### Compute zonal gradient of the surface wind field\n",
    "Now that all needed grid metrics are available, we can compute the zonal temperature gradient similar as above."
   ]
  },
  {
   "cell_type": "code",
   "execution_count": null,
   "metadata": {},
   "outputs": [],
   "source": [
    "du_dx = grid.diff(ds_full.uwnd, 'X') / ds_full.dxg\n",
    "du_dx"
   ]
  },
  {
   "cell_type": "markdown",
   "metadata": {},
   "source": [
    "The values of the gradient are correctly located on the cell boundary on the x-axis and on the cell center in the y-axis"
   ]
  },
  {
   "cell_type": "code",
   "execution_count": null,
   "metadata": {},
   "outputs": [],
   "source": [
    "import cartopy.crs as ccrs\n",
    "\n",
    "fig, axarr = plt.subplots(ncols=2, nrows=3, figsize=[16,20], \n",
    "                               subplot_kw=dict(projection=ccrs.Orthographic(0, -30)))\n",
    "\n",
    "for ti,tt in enumerate(np.arange(0,30, 10)):\n",
    "    ax1 = axarr[ti,0]\n",
    "    ax2 = axarr[ti,1]\n",
    "    time = ds_full.time.isel(time=tt).data\n",
    "    ds_full.uwnd.isel(time=tt).plot(ax=ax1, transform=ccrs.PlateCarree(),robust=True)\n",
    "\n",
    "    du_dx.isel(time=tt).plot(ax=ax2, transform=ccrs.PlateCarree(), robust=True)\n",
    "\n",
    "    ax1.set_title('Zonal Surface Wind %s' %time)\n",
    "    ax2.set_title('Zonal Gradient of Zonal Surface Wind %s' %time)\n",
    "\n",
    "\n",
    "    for ax in [ax1, ax2]:\n",
    "        ax.set_global(); ax.coastlines();"
   ]
  },
  {
   "cell_type": "markdown",
   "metadata": {},
   "source": [
    "The resulting gradient is correctly computed across the periodic (x-axis) boundary."
   ]
  },
  {
   "cell_type": "markdown",
   "metadata": {},
   "source": [
    "### Area weighted average\n",
    "By using the approximated cell area, we can easily compute the area weighted average of the zonal wind."
   ]
  },
  {
   "cell_type": "code",
   "execution_count": null,
   "metadata": {},
   "outputs": [],
   "source": [
    "u = ds_full.uwnd.mean('time')\n",
    "\n",
    "u_mean = u.mean('lat')\n",
    "u_mean_weighted = (u * u.area_c).sum('lat') / (u.area_c).sum('lat')\n",
    "\n",
    "\n",
    "u_mean.plot(label='unweighted mean')\n",
    "u_mean_weighted.plot(label='area weighted mean')\n",
    "plt.legend()\n",
    "plt.ylabel('zonal wind [m/s]')\n",
    "plt.gca().autoscale('tight')"
   ]
  },
  {
   "cell_type": "markdown",
   "metadata": {},
   "source": [
    "Thes two lines show the importance of applying a weighted mean, when the grid spacing is irregular (e.g. datasets gridded on a regular lat-lon grid)."
   ]
  },
  {
   "cell_type": "markdown",
   "metadata": {},
   "source": [
    "\n",
    "\n"
   ]
  }
 ],
 "metadata": {
  "kernelspec": {
   "display_name": "Python 3",
   "language": "python",
   "name": "python3"
  },
  "language_info": {
   "codemirror_mode": {
    "name": "ipython",
    "version": 3
   },
   "file_extension": ".py",
   "mimetype": "text/x-python",
   "name": "python",
   "nbconvert_exporter": "python",
   "pygments_lexer": "ipython3",
   "version": "3.6.7"
  },
  "varInspector": {
   "cols": {
    "lenName": 16,
    "lenType": 16,
    "lenVar": 40
   },
   "kernels_config": {
    "python": {
     "delete_cmd_postfix": "",
     "delete_cmd_prefix": "del ",
     "library": "var_list.py",
     "varRefreshCmd": "print(var_dic_list())"
    },
    "r": {
     "delete_cmd_postfix": ") ",
     "delete_cmd_prefix": "rm(",
     "library": "var_list.r",
     "varRefreshCmd": "cat(var_dic_list()) "
    }
   },
   "types_to_exclude": [
    "module",
    "function",
    "builtin_function_or_method",
    "instance",
    "_Feature"
   ],
   "window_display": false
  }
 },
 "nbformat": 4,
 "nbformat_minor": 4
}
